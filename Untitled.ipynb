{
 "cells": [
  {
   "cell_type": "code",
   "execution_count": 1,
   "metadata": {},
   "outputs": [],
   "source": [
    "import pandas as pd\n",
    "import json"
   ]
  },
  {
   "cell_type": "code",
   "execution_count": 2,
   "metadata": {},
   "outputs": [],
   "source": [
    "data = pd.read_csv('data.csv')"
   ]
  },
  {
   "cell_type": "code",
   "execution_count": 3,
   "metadata": {},
   "outputs": [],
   "source": [
    "data = data.loc[(data['year']>=2005)&(data['year']<=2015)]"
   ]
  },
  {
   "cell_type": "code",
   "execution_count": 4,
   "metadata": {},
   "outputs": [],
   "source": [
    "overall = data.groupby('year')[['suicides_no','population']].apply(lambda x: x['suicides_no'].sum()/x['population'].sum()*100).to_list()"
   ]
  },
  {
   "cell_type": "code",
   "execution_count": 5,
   "metadata": {},
   "outputs": [],
   "source": [
    "total_overall = {}\n",
    "for i in range(2005,2016):\n",
    "    inner_dict = {}\n",
    "    inner_dict['year'] = str(i)\n",
    "    inner_dict['suicide_rate'] = overall[i-2005]\n",
    "    total_overall[str(i)]=inner_dict"
   ]
  },
  {
   "cell_type": "code",
   "execution_count": 6,
   "metadata": {},
   "outputs": [],
   "source": [
    "country_suicide = data.groupby(['year','country'])[['suicides_no','population']].apply(lambda x: x['suicides_no'].sum()/x['population'].sum()*100).to_frame().reset_index().rename(columns={0:'suicide_rate'})"
   ]
  },
  {
   "cell_type": "code",
   "execution_count": 7,
   "metadata": {},
   "outputs": [],
   "source": [
    "GDP_country = data.groupby(['year','country'])['gdp_per_capita ($)'].mean().to_frame().rename(columns={0:'GDP per capita'}).reset_index()"
   ]
  },
  {
   "cell_type": "code",
   "execution_count": 8,
   "metadata": {},
   "outputs": [
    {
     "data": {
      "text/html": [
       "<div>\n",
       "<style scoped>\n",
       "    .dataframe tbody tr th:only-of-type {\n",
       "        vertical-align: middle;\n",
       "    }\n",
       "\n",
       "    .dataframe tbody tr th {\n",
       "        vertical-align: top;\n",
       "    }\n",
       "\n",
       "    .dataframe thead th {\n",
       "        text-align: right;\n",
       "    }\n",
       "</style>\n",
       "<table border=\"1\" class=\"dataframe\">\n",
       "  <thead>\n",
       "    <tr style=\"text-align: right;\">\n",
       "      <th></th>\n",
       "      <th>country</th>\n",
       "      <th>year</th>\n",
       "      <th>sex</th>\n",
       "      <th>age</th>\n",
       "      <th>suicides_no</th>\n",
       "      <th>population</th>\n",
       "      <th>suicides/100k pop</th>\n",
       "      <th>country-year</th>\n",
       "      <th>HDI for year</th>\n",
       "      <th>gdp_for_year ($)</th>\n",
       "      <th>gdp_per_capita ($)</th>\n",
       "      <th>generation</th>\n",
       "    </tr>\n",
       "  </thead>\n",
       "  <tbody>\n",
       "    <tr>\n",
       "      <td>13604</td>\n",
       "      <td>Japan</td>\n",
       "      <td>2005</td>\n",
       "      <td>male</td>\n",
       "      <td>55-74 years</td>\n",
       "      <td>8005</td>\n",
       "      <td>15797130</td>\n",
       "      <td>50.67</td>\n",
       "      <td>Japan2005</td>\n",
       "      <td>0.874</td>\n",
       "      <td>4,755,410,630,912</td>\n",
       "      <td>39412</td>\n",
       "      <td>Silent</td>\n",
       "    </tr>\n",
       "    <tr>\n",
       "      <td>13605</td>\n",
       "      <td>Japan</td>\n",
       "      <td>2005</td>\n",
       "      <td>male</td>\n",
       "      <td>35-54 years</td>\n",
       "      <td>8073</td>\n",
       "      <td>16566953</td>\n",
       "      <td>48.73</td>\n",
       "      <td>Japan2005</td>\n",
       "      <td>0.874</td>\n",
       "      <td>4,755,410,630,912</td>\n",
       "      <td>39412</td>\n",
       "      <td>Boomers</td>\n",
       "    </tr>\n",
       "    <tr>\n",
       "      <td>13606</td>\n",
       "      <td>Japan</td>\n",
       "      <td>2005</td>\n",
       "      <td>male</td>\n",
       "      <td>75+ years</td>\n",
       "      <td>1858</td>\n",
       "      <td>4288706</td>\n",
       "      <td>43.32</td>\n",
       "      <td>Japan2005</td>\n",
       "      <td>0.874</td>\n",
       "      <td>4,755,410,630,912</td>\n",
       "      <td>39412</td>\n",
       "      <td>Silent</td>\n",
       "    </tr>\n",
       "    <tr>\n",
       "      <td>13607</td>\n",
       "      <td>Japan</td>\n",
       "      <td>2005</td>\n",
       "      <td>male</td>\n",
       "      <td>25-34 years</td>\n",
       "      <td>2862</td>\n",
       "      <td>8984855</td>\n",
       "      <td>31.85</td>\n",
       "      <td>Japan2005</td>\n",
       "      <td>0.874</td>\n",
       "      <td>4,755,410,630,912</td>\n",
       "      <td>39412</td>\n",
       "      <td>Generation X</td>\n",
       "    </tr>\n",
       "    <tr>\n",
       "      <td>13608</td>\n",
       "      <td>Japan</td>\n",
       "      <td>2005</td>\n",
       "      <td>female</td>\n",
       "      <td>75+ years</td>\n",
       "      <td>1600</td>\n",
       "      <td>7307828</td>\n",
       "      <td>21.89</td>\n",
       "      <td>Japan2005</td>\n",
       "      <td>0.874</td>\n",
       "      <td>4,755,410,630,912</td>\n",
       "      <td>39412</td>\n",
       "      <td>Silent</td>\n",
       "    </tr>\n",
       "    <tr>\n",
       "      <td>...</td>\n",
       "      <td>...</td>\n",
       "      <td>...</td>\n",
       "      <td>...</td>\n",
       "      <td>...</td>\n",
       "      <td>...</td>\n",
       "      <td>...</td>\n",
       "      <td>...</td>\n",
       "      <td>...</td>\n",
       "      <td>...</td>\n",
       "      <td>...</td>\n",
       "      <td>...</td>\n",
       "      <td>...</td>\n",
       "    </tr>\n",
       "    <tr>\n",
       "      <td>13731</td>\n",
       "      <td>Japan</td>\n",
       "      <td>2015</td>\n",
       "      <td>female</td>\n",
       "      <td>35-54 years</td>\n",
       "      <td>2024</td>\n",
       "      <td>16991218</td>\n",
       "      <td>11.91</td>\n",
       "      <td>Japan2015</td>\n",
       "      <td>NaN</td>\n",
       "      <td>4,394,977,752,878</td>\n",
       "      <td>36510</td>\n",
       "      <td>Generation X</td>\n",
       "    </tr>\n",
       "    <tr>\n",
       "      <td>13732</td>\n",
       "      <td>Japan</td>\n",
       "      <td>2015</td>\n",
       "      <td>female</td>\n",
       "      <td>25-34 years</td>\n",
       "      <td>685</td>\n",
       "      <td>6614211</td>\n",
       "      <td>10.36</td>\n",
       "      <td>Japan2015</td>\n",
       "      <td>NaN</td>\n",
       "      <td>4,394,977,752,878</td>\n",
       "      <td>36510</td>\n",
       "      <td>Millenials</td>\n",
       "    </tr>\n",
       "    <tr>\n",
       "      <td>13733</td>\n",
       "      <td>Japan</td>\n",
       "      <td>2015</td>\n",
       "      <td>female</td>\n",
       "      <td>15-24 years</td>\n",
       "      <td>408</td>\n",
       "      <td>5772938</td>\n",
       "      <td>7.07</td>\n",
       "      <td>Japan2015</td>\n",
       "      <td>NaN</td>\n",
       "      <td>4,394,977,752,878</td>\n",
       "      <td>36510</td>\n",
       "      <td>Millenials</td>\n",
       "    </tr>\n",
       "    <tr>\n",
       "      <td>13734</td>\n",
       "      <td>Japan</td>\n",
       "      <td>2015</td>\n",
       "      <td>male</td>\n",
       "      <td>5-14 years</td>\n",
       "      <td>62</td>\n",
       "      <td>5553851</td>\n",
       "      <td>1.12</td>\n",
       "      <td>Japan2015</td>\n",
       "      <td>NaN</td>\n",
       "      <td>4,394,977,752,878</td>\n",
       "      <td>36510</td>\n",
       "      <td>Generation Z</td>\n",
       "    </tr>\n",
       "    <tr>\n",
       "      <td>13735</td>\n",
       "      <td>Japan</td>\n",
       "      <td>2015</td>\n",
       "      <td>female</td>\n",
       "      <td>5-14 years</td>\n",
       "      <td>28</td>\n",
       "      <td>5287719</td>\n",
       "      <td>0.53</td>\n",
       "      <td>Japan2015</td>\n",
       "      <td>NaN</td>\n",
       "      <td>4,394,977,752,878</td>\n",
       "      <td>36510</td>\n",
       "      <td>Generation Z</td>\n",
       "    </tr>\n",
       "  </tbody>\n",
       "</table>\n",
       "<p>132 rows × 12 columns</p>\n",
       "</div>"
      ],
      "text/plain": [
       "      country  year     sex          age  suicides_no  population  \\\n",
       "13604   Japan  2005    male  55-74 years         8005    15797130   \n",
       "13605   Japan  2005    male  35-54 years         8073    16566953   \n",
       "13606   Japan  2005    male    75+ years         1858     4288706   \n",
       "13607   Japan  2005    male  25-34 years         2862     8984855   \n",
       "13608   Japan  2005  female    75+ years         1600     7307828   \n",
       "...       ...   ...     ...          ...          ...         ...   \n",
       "13731   Japan  2015  female  35-54 years         2024    16991218   \n",
       "13732   Japan  2015  female  25-34 years          685     6614211   \n",
       "13733   Japan  2015  female  15-24 years          408     5772938   \n",
       "13734   Japan  2015    male   5-14 years           62     5553851   \n",
       "13735   Japan  2015  female   5-14 years           28     5287719   \n",
       "\n",
       "       suicides/100k pop country-year  HDI for year  gdp_for_year ($)   \\\n",
       "13604              50.67    Japan2005         0.874  4,755,410,630,912   \n",
       "13605              48.73    Japan2005         0.874  4,755,410,630,912   \n",
       "13606              43.32    Japan2005         0.874  4,755,410,630,912   \n",
       "13607              31.85    Japan2005         0.874  4,755,410,630,912   \n",
       "13608              21.89    Japan2005         0.874  4,755,410,630,912   \n",
       "...                  ...          ...           ...                ...   \n",
       "13731              11.91    Japan2015           NaN  4,394,977,752,878   \n",
       "13732              10.36    Japan2015           NaN  4,394,977,752,878   \n",
       "13733               7.07    Japan2015           NaN  4,394,977,752,878   \n",
       "13734               1.12    Japan2015           NaN  4,394,977,752,878   \n",
       "13735               0.53    Japan2015           NaN  4,394,977,752,878   \n",
       "\n",
       "       gdp_per_capita ($)    generation  \n",
       "13604               39412        Silent  \n",
       "13605               39412       Boomers  \n",
       "13606               39412        Silent  \n",
       "13607               39412  Generation X  \n",
       "13608               39412        Silent  \n",
       "...                   ...           ...  \n",
       "13731               36510  Generation X  \n",
       "13732               36510    Millenials  \n",
       "13733               36510    Millenials  \n",
       "13734               36510  Generation Z  \n",
       "13735               36510  Generation Z  \n",
       "\n",
       "[132 rows x 12 columns]"
      ]
     },
     "execution_count": 8,
     "metadata": {},
     "output_type": "execute_result"
    }
   ],
   "source": [
    "data[data['country']=='Japan']"
   ]
  },
  {
   "cell_type": "code",
   "execution_count": 9,
   "metadata": {},
   "outputs": [],
   "source": [
    "graph2 = country_suicide.merge(GDP_country)"
   ]
  },
  {
   "cell_type": "code",
   "execution_count": 10,
   "metadata": {},
   "outputs": [],
   "source": [
    "graph2['output'] = graph2.apply(lambda x:[x['suicide_rate'],x['gdp_per_capita ($)']],axis=1)"
   ]
  },
  {
   "cell_type": "code",
   "execution_count": 11,
   "metadata": {},
   "outputs": [
    {
     "data": {
      "text/html": [
       "<div>\n",
       "<style scoped>\n",
       "    .dataframe tbody tr th:only-of-type {\n",
       "        vertical-align: middle;\n",
       "    }\n",
       "\n",
       "    .dataframe tbody tr th {\n",
       "        vertical-align: top;\n",
       "    }\n",
       "\n",
       "    .dataframe thead th {\n",
       "        text-align: right;\n",
       "    }\n",
       "</style>\n",
       "<table border=\"1\" class=\"dataframe\">\n",
       "  <thead>\n",
       "    <tr style=\"text-align: right;\">\n",
       "      <th></th>\n",
       "      <th>year</th>\n",
       "      <th>country</th>\n",
       "      <th>suicide_rate</th>\n",
       "      <th>gdp_per_capita ($)</th>\n",
       "      <th>output</th>\n",
       "    </tr>\n",
       "  </thead>\n",
       "  <tbody>\n",
       "    <tr>\n",
       "      <td>0</td>\n",
       "      <td>2005</td>\n",
       "      <td>Albania</td>\n",
       "      <td>0.0</td>\n",
       "      <td>2931</td>\n",
       "      <td>[0.0, 2931]</td>\n",
       "    </tr>\n",
       "    <tr>\n",
       "      <td>1</td>\n",
       "      <td>2005</td>\n",
       "      <td>Antigua and Barbuda</td>\n",
       "      <td>0.0</td>\n",
       "      <td>12649</td>\n",
       "      <td>[0.0, 12649]</td>\n",
       "    </tr>\n",
       "  </tbody>\n",
       "</table>\n",
       "</div>"
      ],
      "text/plain": [
       "   year              country  suicide_rate  gdp_per_capita ($)        output\n",
       "0  2005              Albania           0.0                2931   [0.0, 2931]\n",
       "1  2005  Antigua and Barbuda           0.0               12649  [0.0, 12649]"
      ]
     },
     "execution_count": 11,
     "metadata": {},
     "output_type": "execute_result"
    }
   ],
   "source": [
    "graph2.head(2)"
   ]
  },
  {
   "cell_type": "code",
   "execution_count": 12,
   "metadata": {},
   "outputs": [],
   "source": [
    "graph2_dict = {}\n",
    "for i in range(2005,2016):\n",
    "    inner = graph2.loc[graph2['year']==i]\n",
    "    value = inner['output'].values\n",
    "    countries = inner['country'].values\n",
    "    inner_dict = {}\n",
    "    for j in range(len(countries)):\n",
    "        inner_dict[countries[j]]=value[j]\n",
    "    graph2_dict[str(i)] = inner_dict"
   ]
  },
  {
   "cell_type": "code",
   "execution_count": 40,
   "metadata": {},
   "outputs": [],
   "source": [
    "out1 = {}\n",
    "for i in range(2005,2016):\n",
    "    inner = data.loc[data['year']==i]\n",
    "    yearlist = []\n",
    "    a = inner.groupby('age')['suicides_no'].sum().to_frame().reset_index()\n",
    "    a['proportion'] = a['suicides_no'].apply(lambda x: x/a['suicides_no'].sum()*100)\n",
    "    age = a['age'].values \n",
    "    prop = a['proportion'].values\n",
    "    for j in range(len(age)):\n",
    "        inner1 = {}\n",
    "        inner1['name']=age[j]\n",
    "        inner1['weight'] = prop[j]\n",
    "        yearlist+=[inner1]\n",
    "    out1[str(i)]=yearlist"
   ]
  },
  {
   "cell_type": "code",
   "execution_count": 42,
   "metadata": {},
   "outputs": [],
   "source": [
    "output = [total_overall,graph2_dict,out1]"
   ]
  },
  {
   "cell_type": "code",
   "execution_count": 43,
   "metadata": {},
   "outputs": [],
   "source": [
    "with open('dataset1.json', 'w') as fp:\n",
    "    json.dump(output, fp)"
   ]
  },
  {
   "cell_type": "code",
   "execution_count": 90,
   "metadata": {},
   "outputs": [],
   "source": [
    "out = []\n",
    "for i in range(2005,2016):\n",
    "    out+=[str(i)]"
   ]
  },
  {
   "cell_type": "code",
   "execution_count": 92,
   "metadata": {},
   "outputs": [
    {
     "data": {
      "text/plain": [
       "array(['2005', '2006', '2007', '2008', '2009', '2010', '2011', '2012',\n",
       "       '2013', '2014', '2015'], dtype='<U4')"
      ]
     },
     "execution_count": 92,
     "metadata": {},
     "output_type": "execute_result"
    }
   ],
   "source": [
    "import numpy as np\n",
    "np.array(out)"
   ]
  },
  {
   "cell_type": "code",
   "execution_count": 117,
   "metadata": {},
   "outputs": [
    {
     "data": {
      "text/plain": [
       "year\n",
       "2005    84\n",
       "2006    85\n",
       "2007    86\n",
       "2008    85\n",
       "2009    89\n",
       "2010    88\n",
       "2011    86\n",
       "2012    81\n",
       "2013    80\n",
       "2014    78\n",
       "2015    62\n",
       "Name: country, dtype: int64"
      ]
     },
     "execution_count": 117,
     "metadata": {},
     "output_type": "execute_result"
    }
   ],
   "source": [
    "data.groupby(['year'])['country'].nunique()"
   ]
  },
  {
   "cell_type": "code",
   "execution_count": 119,
   "metadata": {},
   "outputs": [],
   "source": [
    "out = []\n",
    "for i in range(89):\n",
    "    out+=[{}]"
   ]
  },
  {
   "cell_type": "code",
   "execution_count": 121,
   "metadata": {},
   "outputs": [
    {
     "data": {
      "text/plain": [
       "array([{}, {}, {}, {}, {}, {}, {}, {}, {}, {}, {}, {}, {}, {}, {}, {}, {},\n",
       "       {}, {}, {}, {}, {}, {}, {}, {}, {}, {}, {}, {}, {}, {}, {}, {}, {},\n",
       "       {}, {}, {}, {}, {}, {}, {}, {}, {}, {}, {}, {}, {}, {}, {}, {}, {},\n",
       "       {}, {}, {}, {}, {}, {}, {}, {}, {}, {}, {}, {}, {}, {}, {}, {}, {},\n",
       "       {}, {}, {}, {}, {}, {}, {}, {}, {}, {}, {}, {}, {}, {}, {}, {}, {},\n",
       "       {}, {}, {}, {}], dtype=object)"
      ]
     },
     "execution_count": 121,
     "metadata": {},
     "output_type": "execute_result"
    }
   ],
   "source": [
    "np.array(out)"
   ]
  },
  {
   "cell_type": "code",
   "execution_count": null,
   "metadata": {},
   "outputs": [],
   "source": []
  }
 ],
 "metadata": {
  "kernelspec": {
   "display_name": "Python 3",
   "language": "python",
   "name": "python3"
  },
  "language_info": {
   "codemirror_mode": {
    "name": "ipython",
    "version": 3
   },
   "file_extension": ".py",
   "mimetype": "text/x-python",
   "name": "python",
   "nbconvert_exporter": "python",
   "pygments_lexer": "ipython3",
   "version": "3.7.4"
  }
 },
 "nbformat": 4,
 "nbformat_minor": 2
}
